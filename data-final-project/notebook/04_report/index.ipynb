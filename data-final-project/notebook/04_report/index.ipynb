{
 "cells": [
  {
   "cell_type": "markdown",
   "metadata": {},
   "source": [
    "For every course how much employee enrolled"
   ]
  },
  {
   "cell_type": "code",
   "execution_count": 1,
   "metadata": {},
   "outputs": [
    {
     "name": "stdout",
     "output_type": "stream",
     "text": [
      "Grouped Data by CourseID with Unique Employee Count:\n",
      "    CourseID  TotalEnrolledEmployeeCount\n",
      "0          1                          11\n",
      "1          2                          10\n",
      "2          3                           3\n",
      "3          4                          11\n",
      "4          5                           7\n",
      "..       ...                         ...\n",
      "95        96                          11\n",
      "96        97                          13\n",
      "97        98                          13\n",
      "98        99                          12\n",
      "99       100                          13\n",
      "\n",
      "[100 rows x 2 columns]\n",
      "Grouped data saved to /home/ritish/projects/DATA_ENGINEERING/data-final-project/data_enginnering\\04_report\\Grouped_Enrollment_Data.csv\n"
     ]
    }
   ],
   "source": [
    "import pandas as pd\n",
    "\n",
    "# Load the enrollment data (replace with your actual path)\n",
    "enrollment_path = r'/home/ritish/projects/DATA_ENGINEERING/data-final-project/data_enginnering/02_clean/filtered_enrollments.csv'  # Update this path to your enrollment CSV\n",
    "enrollment_data = pd.read_csv(enrollment_path)\n",
    "\n",
    "# Clean column names by removing leading/trailing spaces\n",
    "enrollment_data.columns = enrollment_data.columns.str.strip()\n",
    "\n",
    "# Group by CourseID and count unique EmployeeID\n",
    "grouped_data = enrollment_data.groupby('CourseID')['EmployeeID'].nunique().reset_index()\n",
    "\n",
    "# Rename the columns for clarity\n",
    "grouped_data.columns = ['CourseID', 'TotalEnrolledEmployeeCount']\n",
    "\n",
    "# Display the result\n",
    "print(\"Grouped Data by CourseID with Unique Employee Count:\")\n",
    "print(grouped_data)\n",
    "\n",
    "# Save the grouped data to CSV if needed\n",
    "output_path = r'/home/ritish/projects/DATA_ENGINEERING/data-final-project/data_enginnering\\04_report\\Grouped_Enrollment_Data.csv'\n",
    "grouped_data.to_csv(output_path, index=False)\n",
    "\n",
    "print(f\"Grouped data saved to {output_path}\")\n"
   ]
  },
  {
   "cell_type": "markdown",
   "metadata": {},
   "source": [
    "Top 3 employee for every course"
   ]
  },
  {
   "cell_type": "code",
   "execution_count": null,
   "metadata": {},
   "outputs": [],
   "source": [
    "import pandas as pd\n",
    "\n",
    "# Load the enrollment data (replace with your actual path)\n",
    "enrollment_path = r'/home/ritish/projects/DATA_ENGINEERING/data-final-project/data_enginnering\\02_clean\\filtered_enrollments.csv'  # Update this path to your enrollment CSV\n",
    "enrollment_data = pd.read_csv(enrollment_path)\n",
    "\n",
    "# Clean column names by removing leading/trailing spaces\n",
    "enrollment_data.columns = enrollment_data.columns.str.strip()\n",
    "\n",
    "# Group by CourseID and get the top 3 QuizScore for each course\n",
    "top_quizzes = enrollment_data.groupby('CourseID').apply(lambda x: x.nlargest(3, 'QuizScore')).reset_index(drop=True)\n",
    "\n",
    "# Display the result\n",
    "print(\"Top 3 Quiz Scores for Each Course:\")\n",
    "print(top_quizzes)\n",
    "\n",
    "# Save the top 3 quiz scores to CSV if needed\n",
    "output_path = r'/home/ritish/projects/DATA_ENGINEERING/data-final-project/data_enginnering\\04_report\\Top_3_Quiz_Scores.csv'\n",
    "top_quizzes.to_csv(output_path, index=False)\n",
    "\n",
    "print(f\"Top 3 quiz scores saved to {output_path}\")\n"
   ]
  },
  {
   "cell_type": "markdown",
   "metadata": {},
   "source": [
    "Top 10 Courses by rating"
   ]
  },
  {
   "cell_type": "code",
   "execution_count": null,
   "metadata": {},
   "outputs": [],
   "source": [
    "import pandas as pd\n",
    "\n",
    "# Load the feedback data (replace with your actual path)\n",
    "feedback_path = r'/home/ritish/projects/DATA_ENGINEERING/data-final-project/data_enginnering\\02_clean\\filtered_feedback.csv'  # Update this path to your feedback CSV\n",
    "feedback_data = pd.read_csv(feedback_path)\n",
    "\n",
    "# Clean column names by removing leading/trailing spaces\n",
    "feedback_data.columns = feedback_data.columns.str.strip()\n",
    "\n",
    "# Group by CourseID and calculate the average rating\n",
    "average_rating = feedback_data.groupby('CourseID')['Rating'].mean().reset_index()\n",
    "\n",
    "# Rename the columns for clarity\n",
    "average_rating.columns = ['CourseID', 'AverageRating']\n",
    "\n",
    "# Sort by AverageRating in descending order\n",
    "top_courses = average_rating.sort_values(by='AverageRating', ascending=False).head(10)\n",
    "\n",
    "# Display the top 10 courses by rating\n",
    "print(\"Top 10 Courses by Average Rating:\")\n",
    "print(top_courses)\n",
    "\n",
    "# Save the top courses to a CSV file if needed\n",
    "output_path = r'/home/ritish/projects/DATA_ENGINEERING/data-final-project/data_enginnering\\04_report\\Top_10_Courses_by_Rating.csv'\n",
    "top_courses.to_csv(output_path, index=False)\n",
    "\n",
    "print(f\"Top 10 courses saved to {output_path}\")\n"
   ]
  }
 ],
 "metadata": {
  "kernelspec": {
   "display_name": "Python 3",
   "language": "python",
   "name": "python3"
  },
  "language_info": {
   "codemirror_mode": {
    "name": "ipython",
    "version": 3
   },
   "file_extension": ".py",
   "mimetype": "text/x-python",
   "name": "python",
   "nbconvert_exporter": "python",
   "pygments_lexer": "ipython3",
   "version": "3.10.12"
  }
 },
 "nbformat": 4,
 "nbformat_minor": 2
}
