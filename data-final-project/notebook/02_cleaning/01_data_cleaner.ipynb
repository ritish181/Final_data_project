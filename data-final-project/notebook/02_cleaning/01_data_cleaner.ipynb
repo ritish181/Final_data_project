{
 "cells": [
  {
   "cell_type": "code",
   "execution_count": 4,
   "metadata": {},
   "outputs": [],
   "source": [
    "input_folder = r'/home/ritish/projects/DATA_ENGINEERING/data-final-project/data_enginnering/01_raw/genarated_data/'\n",
    "output_folder = r'/home/ritish/projects/DATA_ENGINEERING/data-final-project/data_enginnering/02_clean/'"
   ]
  },
  {
   "cell_type": "markdown",
   "metadata": {},
   "source": [
    "employee cleaning"
   ]
  },
  {
   "cell_type": "code",
   "execution_count": 5,
   "metadata": {},
   "outputs": [
    {
     "name": "stdout",
     "output_type": "stream",
     "text": [
      "Filtered data saved to /home/ritish/projects/DATA_ENGINEERING/data-final-project/data_enginnering/02_clean/filtered_employee.csv\n"
     ]
    }
   ],
   "source": [
    "import pandas as pd\n",
    "\n",
    "# Load the CSV file\n",
    "file_path = f'{input_folder}employees.csv'  # Replace with the actual file path\n",
    "df = pd.read_csv(file_path)\n",
    "\n",
    "# Trim spaces from column names\n",
    "df.columns = df.columns.str.strip()\n",
    "\n",
    "# Select only the 'EmployeeID', 'Name', 'Email', 'Department', and 'Team' columns\n",
    "filtered_df = df[['EmployeeID', 'Name', 'Email', 'Department', 'Team']]\n",
    "\n",
    "# Typecast all selected fields to string\n",
    "filtered_df = filtered_df.astype(str)\n",
    "\n",
    "# Save the filtered data to a new CSV in another folder\n",
    "output_folder = f'{output_folder}filtered_employee.csv'  # Replace with the actual output path\n",
    "filtered_df.to_csv(output_folder, index=False)\n",
    "\n",
    "print(f\"Filtered data saved to {output_folder}\")\n"
   ]
  },
  {
   "cell_type": "markdown",
   "metadata": {},
   "source": [
    "discussions cleaning"
   ]
  },
  {
   "cell_type": "code",
   "execution_count": null,
   "metadata": {},
   "outputs": [],
   "source": [
    "import pandas as pd\n",
    "\n",
    "# Load the CSV file\n",
    "file_path = f'{input_folder}discussions.csv'  # Replace with the actual file path\n",
    "df = pd.read_csv(file_path)\n",
    "\n",
    "# Trim spaces from column names\n",
    "df.columns = df.columns.str.strip()\n",
    "\n",
    "# Select the required columns: 'DiscussionID', 'Text', 'PostDate', 'Parent_Dis_ID', 'EmployeeID', 'CourseID'\n",
    "filtered_df = df[['DiscussionID', 'Text', 'PostDate', 'Parent_Dis_ID', 'EmployeeID', 'CourseID']]\n",
    "\n",
    "# Typecast all fields except 'PostDate' to string\n",
    "filtered_df = filtered_df.astype({'DiscussionID': str, 'Text': str, 'Parent_Dis_ID': str, 'EmployeeID': str, 'CourseID': str})\n",
    "\n",
    "# Convert 'PostDate' to date format (use the format in your data, e.g., 'YYYY-MM-DD')\n",
    "# filtered_df['PostDate'] = pd.to_datetime(filtered_df['PostDate'], format='%Y-%m-%d', errors='coerce')\n",
    "filtered_df['PostDate'] = pd.to_datetime(filtered_df['PostDate'], errors='coerce')\n",
    "\n",
    "# Save the filtered data to a new CSV in another folder\n",
    "output_folder = f'{output_folder}filtered_discussions.csv'  # Replace with the actual output path\n",
    "filtered_df.to_csv(output_folder, index=False)\n",
    "\n",
    "print(f\"Filtered data saved to {output_folder}\")\n"
   ]
  },
  {
   "cell_type": "markdown",
   "metadata": {},
   "source": [
    "Courses\n"
   ]
  },
  {
   "cell_type": "code",
   "execution_count": null,
   "metadata": {},
   "outputs": [],
   "source": [
    "import pandas as pd\n",
    "\n",
    "# Load the CSV file\n",
    "file_path = f'{input_folder}courses.csv'  # Replace with the actual file path\n",
    "df = pd.read_csv(file_path)\n",
    "\n",
    "# Trim spaces from column names\n",
    "df.columns = df.columns.str.strip()\n",
    "\n",
    "# Select the required columns: 'CourseID', 'CourseName', 'CourseDescription', 'CreationDate', 'Author', 'Image', 'Quiz'\n",
    "filtered_df = df[['CourseID', 'CourseName', 'CourseDescription', 'CreationDate', 'Author', 'Quiz']]\n",
    "\n",
    "# Typecast all fields except 'CreationDate' to string\n",
    "filtered_df = filtered_df.astype({\n",
    "    'CourseID': str, \n",
    "    'CourseName': str, \n",
    "    'CourseDescription': str, \n",
    "    'Author': str, \n",
    "    'Quiz': str\n",
    "})\n",
    "\n",
    "# Convert 'CreationDate' to date format (use the format in your data, e.g., 'YYYY-MM-DD')\n",
    "filtered_df['CreationDate'] = pd.to_datetime(filtered_df['CreationDate'], format='%Y-%m-%d', errors='coerce')\n",
    "\n",
    "# Save the filtered data to a new CSV in another folder\n",
    "output_folder = f'{output_folder}filtered_courses.csv'  # Replace with the actual output path\n",
    "filtered_df.to_csv(output_folder, index=False)\n",
    "\n",
    "print(f\"Filtered data saved to {output_folder}\")\n"
   ]
  },
  {
   "cell_type": "markdown",
   "metadata": {},
   "source": [
    "engagements"
   ]
  },
  {
   "cell_type": "code",
   "execution_count": null,
   "metadata": {},
   "outputs": [],
   "source": [
    "import pandas as pd\n",
    "\n",
    "# Load the CSV file\n",
    "file_path = f'{input_folder}engagements.csv'  # Replace with the actual file path\n",
    "df = pd.read_csv(file_path)\n",
    "\n",
    "# Trim spaces from column names\n",
    "df.columns = df.columns.str.strip()\n",
    "\n",
    "# Select the required columns: 'EngagementID', 'TimeStart', 'TimeEnd', 'TimeSpent', 'IsCompleted', 'EmployeeID', 'ModuleID', 'CourseID'\n",
    "filtered_df = df[['EngagementID', 'TimeStart', 'TimeEnd', 'TimeSpent', 'IsCompleted', 'EmployeeID', 'ModuleID', 'CourseID']]\n",
    "\n",
    "# Typecast the necessary fields\n",
    "filtered_df = filtered_df.astype({\n",
    "    'EngagementID': str, \n",
    "    'TimeStart': str, \n",
    "    'TimeEnd': str,\n",
    "    'EmployeeID': str,\n",
    "    'ModuleID': str,\n",
    "    'CourseID': str,\n",
    "})\n",
    "\n",
    "# Convert 'TimeSpent' to integer\n",
    "filtered_df['TimeSpent'] = pd.to_numeric(filtered_df['TimeSpent'], errors='coerce').fillna(0).astype(int)\n",
    "\n",
    "# Convert 'IsCompleted' to boolean\n",
    "filtered_df['IsCompleted'] = filtered_df['IsCompleted'].map({'True': True, 'False': False})\n",
    "\n",
    "# Save the filtered data to a new CSV in another folder\n",
    "output_folder = f'{output_folder}filtered_engagements.csv'  # Replace with the actual output path\n",
    "filtered_df.to_csv(output_folder, index=False)\n",
    "\n",
    "print(f\"Filtered data saved to {output_folder}\")\n"
   ]
  },
  {
   "cell_type": "markdown",
   "metadata": {},
   "source": [
    "Enrollment"
   ]
  },
  {
   "cell_type": "code",
   "execution_count": null,
   "metadata": {},
   "outputs": [],
   "source": [
    "import pandas as pd\n",
    "\n",
    "# Load the CSV file\n",
    "file_path = f'{input_folder}enrollments.csv'  # Replace with the actual file path\n",
    "df = pd.read_csv(file_path)\n",
    "\n",
    "# Trim spaces from column names\n",
    "df.columns = df.columns.str.strip()\n",
    "\n",
    "# Select the required columns: 'EnrollmentID', 'EnrollDate', 'QuizScore', 'EmployeeID', 'CourseID'\n",
    "filtered_df = df[['EnrollmentID', 'EnrollDate', 'QuizScore', 'EmployeeID', 'CourseID']]\n",
    "\n",
    "# Typecast the necessary fields to string\n",
    "filtered_df = filtered_df.astype({\n",
    "    'EnrollmentID': str, \n",
    "    'EnrollDate': str, \n",
    "    'EmployeeID': str, \n",
    "    'CourseID': str\n",
    "})\n",
    "\n",
    "# Convert 'QuizScore' to integer\n",
    "filtered_df['QuizScore'] = pd.to_numeric(filtered_df['QuizScore'], errors='coerce').fillna(0).astype(int)\n",
    "\n",
    "# Save the filtered data to a new CSV in another folder\n",
    "output_folder = f'{output_folder}filtered_enrollments.csv'  # Replace with the actual output path\n",
    "filtered_df.to_csv(output_folder, index=False)\n",
    "\n",
    "print(f\"Filtered data saved to {output_folder}\")\n"
   ]
  },
  {
   "cell_type": "markdown",
   "metadata": {},
   "source": [
    "Feedback"
   ]
  },
  {
   "cell_type": "code",
   "execution_count": null,
   "metadata": {},
   "outputs": [],
   "source": [
    "import pandas as pd\n",
    "\n",
    "# Load the CSV file\n",
    "file_path = f'{input_folder}feedbacks.csv'  # Replace with the actual file path\n",
    "df = pd.read_csv(file_path)\n",
    "\n",
    "# Trim spaces from column names\n",
    "df.columns = df.columns.str.strip()\n",
    "\n",
    "# Select the required columns: 'FeedbackID', 'Rating', 'Comment', 'SubmittedAt', 'EmployeeID', 'CourseID'\n",
    "filtered_df = df[['FeedbackID', 'Rating', 'Comment', 'SubmittedAt', 'EmployeeID', 'CourseID']]\n",
    "\n",
    "# Typecast the necessary fields to string\n",
    "filtered_df = filtered_df.astype({\n",
    "    'FeedbackID': str, \n",
    "    'Comment': str, \n",
    "    'SubmittedAt': str, \n",
    "    'EmployeeID': str, \n",
    "    'CourseID': str\n",
    "})\n",
    "\n",
    "# Convert 'Rating' to integer\n",
    "filtered_df['Rating'] = pd.to_numeric(filtered_df['Rating'], errors='coerce').fillna(0).astype(int)\n",
    "\n",
    "# Save the filtered data to a new CSV in another folder\n",
    "output_folder = f'{output_folder}filtered_feedback.csv'  # Replace with the actual output path\n",
    "filtered_df.to_csv(output_folder, index=False)\n",
    "\n",
    "print(f\"Filtered data saved to {output_folder}\")\n"
   ]
  },
  {
   "cell_type": "markdown",
   "metadata": {},
   "source": [
    "Modules"
   ]
  },
  {
   "cell_type": "code",
   "execution_count": null,
   "metadata": {},
   "outputs": [],
   "source": [
    "import pandas as pd\n",
    "\n",
    "# Load the CSV file\n",
    "file_path = f'{input_folder}modules.csv'  # Replace with the actual file path\n",
    "df = pd.read_csv(file_path)\n",
    "\n",
    "# Trim spaces from column names\n",
    "df.columns = df.columns.str.strip()\n",
    "\n",
    "# Select the required columns: 'ModuleID', 'ModuleName', 'ModuleDescription', 'CourseID'\n",
    "filtered_df = df[['ModuleID', 'ModuleName', 'ModuleDescription', 'CourseID']]\n",
    "\n",
    "# Typecast the necessary fields to string\n",
    "filtered_df = filtered_df.astype({\n",
    "    'ModuleID': str, \n",
    "    'ModuleName': str, \n",
    "    'ModuleDescription': str, \n",
    "    'CourseID': str\n",
    "})\n",
    "\n",
    "# Save the filtered data to a new CSV in another folder\n",
    "output_folder = f'{output_folder}filtered_modules.csv'  # Replace with the actual output path\n",
    "filtered_df.to_csv(output_folder, index=False)\n",
    "\n",
    "print(f\"Filtered data saved to {output_folder}\")\n"
   ]
  },
  {
   "cell_type": "code",
   "execution_count": 22,
   "metadata": {},
   "outputs": [
    {
     "name": "stdout",
     "output_type": "stream",
     "text": [
      "['DiscussionID', 'Text', 'PostDate', 'Parent_Dis_ID', 'EmployeeID', 'CourseID']\n",
      "Data type of 'SubmittedAt': datetime64[ns]\n"
     ]
    }
   ],
   "source": [
    "import pandas as pd\n",
    "\n",
    "# Load the CSV file\n",
    "file_path = '/home/ritish/projects/DATA_ENGINEERING/data-final-project/data_enginnering/02_clean/filtered_feedback.csv'  # Replace with the actual file path\n",
    "df = pd.read_csv(file_path)\n",
    "\n",
    "filtered_df.columns = filtered_df.columns.str.strip()  # This removes any leading/trailing spaces from column names\n",
    "print(filtered_df.columns.tolist())  # Convert to a list for better readability\n",
    "\n",
    "\n",
    "# Check the data type of the 'SubmittedAt' column\n",
    "if \"PostDate\" in filtered_df.columns:\n",
    "    filtered_df['PostDate'] = pd.to_datetime(filtered_df['PostDate'], errors='coerce')\n",
    "    print(f\"Data type of 'SubmittedAt': {filtered_df['PostDate'].dtype}\")\n",
    "else:\n",
    "    print(\"The column 'SubmittedAt' does not exist in the DataFrame.\")\n"
   ]
  },
  {
   "cell_type": "code",
   "execution_count": null,
   "metadata": {},
   "outputs": [],
   "source": []
  }
 ],
 "metadata": {
  "kernelspec": {
   "display_name": "Python 3",
   "language": "python",
   "name": "python3"
  },
  "language_info": {
   "codemirror_mode": {
    "name": "ipython",
    "version": 3
   },
   "file_extension": ".py",
   "mimetype": "text/x-python",
   "name": "python",
   "nbconvert_exporter": "python",
   "pygments_lexer": "ipython3",
   "version": "3.10.12"
  }
 },
 "nbformat": 4,
 "nbformat_minor": 2
}
