{
 "cells": [
  {
   "cell_type": "code",
   "execution_count": 1,
   "metadata": {},
   "outputs": [],
   "source": [
    "import pandas as pd"
   ]
  },
  {
   "cell_type": "markdown",
   "metadata": {},
   "source": [
    "Dim Feedback"
   ]
  },
  {
   "cell_type": "code",
   "execution_count": null,
   "metadata": {},
   "outputs": [],
   "source": [
    "filtered_feedback_path= r'/home/ritish/projects/DATA_ENGINEERING/data-final-project/data_enginnering/02_clean/filtered_feedback.csv'\n",
    "filtered_feedback = pd.read_csv(filtered_feedback_path)\n",
    "\n",
    "# Clean column names by removing leading/trailing spaces\n",
    "filtered_feedback.columns = filtered_feedback.columns.str.strip()\n",
    "\n",
    "# Now, you can group by 'EmployeeID' and 'CourseID'\n",
    "fact_feedback = filtered_feedback.groupby(['EmployeeID']).agg({\n",
    "    'Rating': 'mean',  # Average rating per employee per course\n",
    "    'Comment': 'count', # Count of feedback comments\n",
    "    'SubmittedAt': 'max' # Latest feedback date\n",
    "}).reset_index()\n",
    "\n",
    "print(fact_feedback)\n",
    "\n",
    "\n",
    "# Rename columns for clarity\n",
    "fact_feedback.columns = ['EmployeeID','AverageRating', 'FeedbackCount', 'LastSubmittedAt']\n",
    "\n",
    "# Save the result to a new CSV file\n",
    "output_file_path = '/home/ritish/projects/DATA_ENGINEERING/data-final-project/data_enginnering/data/03_load/dim/FactFeedback.csv'\n",
    "fact_feedback.to_csv(output_file_path, index=False)\n",
    "\n",
    "print(f\"FactFeedback table saved to {output_file_path}\")"
   ]
  },
  {
   "cell_type": "markdown",
   "metadata": {},
   "source": [
    "Discuss Table"
   ]
  },
  {
   "cell_type": "code",
   "execution_count": null,
   "metadata": {},
   "outputs": [],
   "source": [
    "import pandas as pd\n",
    "\n",
    "# Load the CSV file for discussions\n",
    "discussion_file_path = '/home/ritish/projects/DATA_ENGINEERING/data-final-project/data_enginnering/data/02_clean/filtered_discussions.csv'\n",
    "\n",
    "# Trim spaces from column names if necessary\n",
    "df_discussions.columns = df_discussions.columns.str.strip()\n",
    "\n",
    "# Convert 'PostDate' to datetime to ensure it's handled correctly\n",
    "df_discussions['PostDate'] = pd.to_datetime(df_discussions['PostDate'], errors='coerce')\n",
    "\n",
    "# Group by EmployeeID and CourseID to create a FactDiscussion table\n",
    "fact_discussion = df_discussions.groupby(['EmployeeID']).agg({\n",
    "    'Text': 'count',          # Count of discussion texts per employee per course\n",
    "    'PostDate': 'max'          # Latest post date per employee per course\n",
    "}).reset_index()\n",
    "\n",
    "# Rename columns for clarity\n",
    "fact_discussion.columns = ['EmployeeID', 'DiscussionCount', 'LastPostDate']\n",
    "\n",
    "# Save the fact_discussion table to a CSV\n",
    "output_discussion_file_path = '/home/ritish/projects/DATA_ENGINEERING/data-final-project/data_enginnering/03_load/dim/FactDiscussion.csv'\n",
    "fact_discussion.to_csv(output_discussion_file_path, index=False)\n",
    "\n",
    "print(f\"FactDiscussion table saved to {output_discussion_file_path}\")\n"
   ]
  },
  {
   "cell_type": "markdown",
   "metadata": {},
   "source": [
    "Enrollment"
   ]
  },
  {
   "cell_type": "code",
   "execution_count": null,
   "metadata": {},
   "outputs": [],
   "source": [
    "import pandas as pd\n",
    "\n",
    "# Load the CSV file for enrollment data\n",
    "enrollment_file_path = '/home/ritish/projects/DATA_ENGINEERING/data-final-project/data_enginnering/02_clean/filtered_enrollments.csv'\n",
    "df_enrollment = pd.read_csv(enrollment_file_path)\n",
    "\n",
    "# Trim spaces from column names if necessary\n",
    "df_enrollment.columns = df_enrollment.columns.str.strip()\n",
    "\n",
    "# Group by EmployeeID and CourseID to create the FactEnrollment table\n",
    "fact_enrollment = df_enrollment.groupby(['EmployeeID']).agg({\n",
    "    'EnrollmentID': 'count',  # Count of enrollments per employee per course\n",
    "    'QuizScore': 'mean',      # Average quiz score per employee per course\n",
    "    'EnrollDate': 'max'       # Latest enrollment date\n",
    "}).reset_index()\n",
    "\n",
    "# Rename columns for clarity\n",
    "fact_enrollment.columns = ['EmployeeID', 'TotalCourseCount', 'AverageQuizScore', 'LastEnrollDate']\n",
    "\n",
    "# Save the fact_enrollment table to a CSV\n",
    "output_enrollment_file_path = '/home/ritish/projects/DATA_ENGINEERING/data-final-project/data_enginnering/03_load/dim/FactEnrollment.csv'\n",
    "fact_enrollment.to_csv(output_enrollment_file_path, index=False)\n",
    "\n",
    "print(f\"FactEnrollment table saved to {output_enrollment_file_path}\")\n"
   ]
  },
  {
   "cell_type": "markdown",
   "metadata": {},
   "source": [
    "filtered_engagements"
   ]
  },
  {
   "cell_type": "code",
   "execution_count": null,
   "metadata": {},
   "outputs": [],
   "source": [
    "import pandas as pd\n",
    "\n",
    "# Load the filtered engagements CSV file\n",
    "filtered_engagements_path = '/home/ritish/projects/DATA_ENGINEERING/data-final-project/data_enginnering/02_clean/filtered_engagements.csv'  # Replace with the actual file path\n",
    "filtered_engagements = pd.read_csv(filtered_engagements_path)\n",
    "\n",
    "# Ensure columns are trimmed of whitespace\n",
    "filtered_engagements.columns = filtered_engagements.columns.str.strip()\n",
    "\n",
    "# Group by EmployeeID, ModuleID, and CourseID to create a Fact Engagement table\n",
    "fact_engagement = filtered_engagements.groupby(['EmployeeID']).agg({\n",
    "    'TimeSpent': 'sum',  # Sum of time spent\n",
    "}).reset_index()\n",
    "\n",
    "# Rename columns for clarity if needed\n",
    "fact_engagement.columns = ['EmployeeID', 'TotalTimeSpent']\n",
    "\n",
    "# Save the fact_engagement table to a CSV\n",
    "output_engagement_file_path = '/home/ritish/projects/DATA_ENGINEERING/data-final-project/data_enginnering/03_load/dim/FactEngagement.csv'  # Replace with the actual output path\n",
    "fact_engagement.to_csv(output_engagement_file_path, index=False)\n",
    "\n",
    "print(f\"Fact Engagement table saved to {output_engagement_file_path}\")\n"
   ]
  },
  {
   "cell_type": "markdown",
   "metadata": {},
   "source": [
    "Fact Tables"
   ]
  },
  {
   "cell_type": "code",
   "execution_count": null,
   "metadata": {},
   "outputs": [],
   "source": [
    "import pandas as pd\n",
    "\n",
    "filtered_feedback_path= r'/home/ritish/projects/DATA_ENGINEERING/data-final-project/data_enginnering/02_clean/filtered_employee.csv'\n",
    "filtered_feedback = pd.read_csv(filtered_feedback_path)\n",
    "\n",
    "# Clean column names by removing leading/trailing spaces\n",
    "filtered_feedback.columns = filtered_feedback.columns.str.strip()\n",
    "\n",
    "# Save the result to a new CSV file\n",
    "output_file_path = r'/home/ritish/projects/DATA_ENGINEERING/data-final-project/data_enginnering/03_load/fact/fact_employee.csv'\n",
    "filtered_feedback.to_csv(output_file_path, index=False)\n",
    "\n",
    "print(f\"FactFeedback table saved to {output_file_path}\")"
   ]
  },
  {
   "cell_type": "code",
   "execution_count": null,
   "metadata": {},
   "outputs": [],
   "source": [
    "import pandas as pd\n",
    "\n",
    "filtered_feedback_path= r'/home/ritish/projects/DATA_ENGINEERING/data-final-project/data_enginnering/02_clean/filtered_courses.csv'\n",
    "filtered_feedback = pd.read_csv(filtered_feedback_path)\n",
    "\n",
    "# Clean column names by removing leading/trailing spaces\n",
    "filtered_feedback.columns = filtered_feedback.columns.str.strip()\n",
    "\n",
    "# Save the result to a new CSV file\n",
    "output_file_path = r'/home/ritish/projects/DATA_ENGINEERING/data-final-project/data_enginnering/03_load/fact/fact_course.csv'\n",
    "filtered_feedback.to_csv(output_file_path, index=False)\n",
    "\n",
    "print(f\"FactFeedback table saved to {output_file_path}\")"
   ]
  },
  {
   "cell_type": "code",
   "execution_count": null,
   "metadata": {},
   "outputs": [],
   "source": [
    "import pandas as pd\n",
    "\n",
    "filtered_feedback_path= r'/home/ritish/projects/DATA_ENGINEERING/data-final-project/data_enginnering/02_clean/filtered_modules.csv'\n",
    "filtered_feedback = pd.read_csv(filtered_feedback_path)\n",
    "\n",
    "# Clean column names by removing leading/trailing spaces\n",
    "filtered_feedback.columns = filtered_feedback.columns.str.strip()\n",
    "\n",
    "# Save the result to a new CSV file\n",
    "output_file_path = r'/home/ritish/projects/DATA_ENGINEERING/data-final-project/data_enginnering/03_load/fact/fact_modules.csv'\n",
    "filtered_feedback.to_csv(output_file_path, index=False)\n",
    "\n",
    "print(f\"FactFeedback table saved to {output_file_path}\")"
   ]
  }
 ],
 "metadata": {
  "kernelspec": {
   "display_name": "myenv",
   "language": "python",
   "name": "python3"
  },
  "language_info": {
   "codemirror_mode": {
    "name": "ipython",
    "version": 3
   },
   "file_extension": ".py",
   "mimetype": "text/x-python",
   "name": "python",
   "nbconvert_exporter": "python",
   "pygments_lexer": "ipython3",
   "version": "3.12.4"
  }
 },
 "nbformat": 4,
 "nbformat_minor": 2
}
