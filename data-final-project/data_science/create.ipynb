{
 "cells": [
  {
   "cell_type": "markdown",
   "metadata": {},
   "source": [
    "employ with discuss"
   ]
  },
  {
   "cell_type": "code",
   "execution_count": 24,
   "metadata": {},
   "outputs": [
    {
     "name": "stdout",
     "output_type": "stream",
     "text": [
      "Merged Data with Discussion Count:\n",
      "     EmployeeID   Department  DiscussionCount\n",
      "0             1   Operations              0.0\n",
      "1             2  Engineering              2.0\n",
      "2             3   Operations              2.0\n",
      "3             4    Marketing              0.0\n",
      "4             5  Engineering              3.0\n",
      "..          ...          ...              ...\n",
      "995         996        Legal              0.0\n",
      "996         997           IT              1.0\n",
      "997         998   Operations              3.0\n",
      "998         999        Legal              0.0\n",
      "999        1000           IT              0.0\n",
      "\n",
      "[1000 rows x 3 columns]\n"
     ]
    }
   ],
   "source": [
    "import pandas as pd\n",
    "\n",
    "# Load the employee data\n",
    "filtered_employ_path = r'/home/ritish/projects/DATA_ENGINEERING/data-final-project/data_enginnering\\03_load\\fact\\fact_employee.csv'\n",
    "filtered_employ = pd.read_csv(filtered_employ_path)\n",
    "\n",
    "# Clean column names by removing leading/trailing spaces\n",
    "filtered_employ.columns = filtered_employ.columns.str.strip()\n",
    "\n",
    "# Load the discuss data (replace with your actual path)\n",
    "discuss_path = r'/home/ritish/projects/DATA_ENGINEERING/data-final-project/data_enginnering\\03_load\\dim\\FactDiscussion.csv'  # Update this path to your discuss CSV\n",
    "discuss = pd.read_csv(discuss_path)\n",
    "\n",
    "# Clean column names in discuss DataFrame\n",
    "discuss.columns = discuss.columns.str.strip()\n",
    "\n",
    "# Perform a left join on EmployeeID\n",
    "merged_data = pd.merge(filtered_employ, discuss[['EmployeeID', 'DiscussionCount', 'LastPostDate']],on='EmployeeID', how='left')\n",
    "\n",
    "# Fill NaN values in DiscussionCount with 0\n",
    "merged_data['DiscussionCount'] = merged_data['DiscussionCount'].fillna(0)\n",
    "\n",
    "# Drop the specified columns\n",
    "merged_data = merged_data.drop(columns=['LastPostDate', 'Team', 'Email', 'Name'], errors='ignore')\n",
    "\n",
    "print(\"Merged Data with Discussion Count:\")\n",
    "print(merged_data)\n"
   ]
  },
  {
   "cell_type": "markdown",
   "metadata": {},
   "source": [
    "Feedback"
   ]
  },
  {
   "cell_type": "code",
   "execution_count": 25,
   "metadata": {},
   "outputs": [
    {
     "name": "stdout",
     "output_type": "stream",
     "text": [
      "Merged Data with Discussion Count:\n",
      "     EmployeeID   Department  DiscussionCount  AverageRating  FeedbackCount\n",
      "0             1   Operations              0.0            0.0            0.0\n",
      "1             2  Engineering              2.0            0.0            0.0\n",
      "2             3   Operations              2.0            1.0            1.0\n",
      "3             4    Marketing              0.0            0.0            0.0\n",
      "4             5  Engineering              3.0            5.0            1.0\n",
      "..          ...          ...              ...            ...            ...\n",
      "995         996        Legal              0.0            2.0            1.0\n",
      "996         997           IT              1.0            1.0            1.0\n",
      "997         998   Operations              3.0            0.0            0.0\n",
      "998         999        Legal              0.0            0.0            0.0\n",
      "999        1000           IT              0.0            2.5            2.0\n",
      "\n",
      "[1000 rows x 5 columns]\n"
     ]
    }
   ],
   "source": [
    "import pandas as pd\n",
    "\n",
    "# Load the discuss data (replace with your actual path)\n",
    "feedback_path = r'/home/ritish/projects/DATA_ENGINEERING/data-final-project/data_enginnering\\03_load\\dim\\FactFeedback.csv'  # Update this path to your discuss CSV\n",
    "discuss = pd.read_csv(feedback_path)\n",
    "\n",
    "# Clean column names in discuss DataFrame\n",
    "discuss.columns = discuss.columns.str.strip()\n",
    "\n",
    "# Perform a left join on EmployeeID\n",
    "merged_data = pd.merge(merged_data, discuss[['EmployeeID', 'AverageRating', 'FeedbackCount']],on='EmployeeID', how='left')\n",
    "\n",
    "# Fill NaN values in DiscussionCount with 0\n",
    "merged_data['AverageRating'] = merged_data['AverageRating'].fillna(0)\n",
    "merged_data['FeedbackCount'] = merged_data['FeedbackCount'].fillna(0)\n",
    "\n",
    "print(\"Merged Data with Discussion Count:\")\n",
    "print(merged_data)\n"
   ]
  },
  {
   "cell_type": "markdown",
   "metadata": {},
   "source": [
    "Enrollment"
   ]
  },
  {
   "cell_type": "code",
   "execution_count": 26,
   "metadata": {},
   "outputs": [
    {
     "name": "stdout",
     "output_type": "stream",
     "text": [
      "Merged Data with Discussion Count:\n",
      "     EmployeeID   Department  DiscussionCount  AverageRating  FeedbackCount  \\\n",
      "0             1   Operations              0.0            0.0            0.0   \n",
      "1             2  Engineering              2.0            0.0            0.0   \n",
      "2             3   Operations              2.0            1.0            1.0   \n",
      "3             4    Marketing              0.0            0.0            0.0   \n",
      "4             5  Engineering              3.0            5.0            1.0   \n",
      "..          ...          ...              ...            ...            ...   \n",
      "995         996        Legal              0.0            2.0            1.0   \n",
      "996         997           IT              1.0            1.0            1.0   \n",
      "997         998   Operations              3.0            0.0            0.0   \n",
      "998         999        Legal              0.0            0.0            0.0   \n",
      "999        1000           IT              0.0            2.5            2.0   \n",
      "\n",
      "     TotalCourseCount  AverageQuizScore  \n",
      "0                 0.0               0.0  \n",
      "1                 1.0              93.0  \n",
      "2                 2.0              33.5  \n",
      "3                 0.0               0.0  \n",
      "4                 3.0              31.0  \n",
      "..                ...               ...  \n",
      "995               0.0               0.0  \n",
      "996               0.0               0.0  \n",
      "997               1.0              16.0  \n",
      "998               0.0               0.0  \n",
      "999               0.0               0.0  \n",
      "\n",
      "[1000 rows x 7 columns]\n"
     ]
    }
   ],
   "source": [
    "import pandas as pd\n",
    "\n",
    "# Load the discuss data (replace with your actual path)\n",
    "enroll_path = r'/home/ritish/projects/DATA_ENGINEERING/data-final-project/data_enginnering\\03_load\\dim\\FactEnrollment.csv'  # Update this path to your discuss CSV\n",
    "discuss = pd.read_csv(enroll_path)\n",
    "\n",
    "# Clean column names in discuss DataFrame\n",
    "discuss.columns = discuss.columns.str.strip()\n",
    "\n",
    "# Perform a left join on EmployeeID\n",
    "merged_data = pd.merge(merged_data, discuss[['EmployeeID', 'TotalCourseCount', 'AverageQuizScore']],on='EmployeeID', how='left')\n",
    "\n",
    "# Fill NaN values in DiscussionCount with 0\n",
    "merged_data['TotalCourseCount'] = merged_data['TotalCourseCount'].fillna(0)\n",
    "merged_data['AverageQuizScore'] = merged_data['AverageQuizScore'].fillna(0)\n",
    "\n",
    "print(\"Merged Data with Discussion Count:\")\n",
    "print(merged_data)\n"
   ]
  },
  {
   "cell_type": "markdown",
   "metadata": {},
   "source": [
    "engagment"
   ]
  },
  {
   "cell_type": "code",
   "execution_count": 27,
   "metadata": {},
   "outputs": [
    {
     "name": "stdout",
     "output_type": "stream",
     "text": [
      "Merged Data with Discussion Count:\n",
      "     EmployeeID   Department  DiscussionCount  AverageRating  FeedbackCount  \\\n",
      "0             1   Operations              0.0            0.0            0.0   \n",
      "1             2  Engineering              2.0            0.0            0.0   \n",
      "2             3   Operations              2.0            1.0            1.0   \n",
      "3             4    Marketing              0.0            0.0            0.0   \n",
      "4             5  Engineering              3.0            5.0            1.0   \n",
      "..          ...          ...              ...            ...            ...   \n",
      "995         996        Legal              0.0            2.0            1.0   \n",
      "996         997           IT              1.0            1.0            1.0   \n",
      "997         998   Operations              3.0            0.0            0.0   \n",
      "998         999        Legal              0.0            0.0            0.0   \n",
      "999        1000           IT              0.0            2.5            2.0   \n",
      "\n",
      "     TotalCourseCount  AverageQuizScore  TotalTimeSpent  \n",
      "0                 0.0               0.0            41.0  \n",
      "1                 1.0              93.0             0.0  \n",
      "2                 2.0              33.5             0.0  \n",
      "3                 0.0               0.0            51.0  \n",
      "4                 3.0              31.0             0.0  \n",
      "..                ...               ...             ...  \n",
      "995               0.0               0.0             0.0  \n",
      "996               0.0               0.0             0.0  \n",
      "997               1.0              16.0             0.0  \n",
      "998               0.0               0.0            82.0  \n",
      "999               0.0               0.0             0.0  \n",
      "\n",
      "[1000 rows x 8 columns]\n"
     ]
    }
   ],
   "source": [
    "import pandas as pd\n",
    "\n",
    "# Load the discuss data (replace with your actual path)\n",
    "enroll_path = r'/home/ritish/projects/DATA_ENGINEERING/data-final-project/data_enginnering\\03_load\\dim\\FactEngagement.csv'  # Update this path to your discuss CSV\n",
    "discuss = pd.read_csv(enroll_path)\n",
    "\n",
    "# Clean column names in discuss DataFrame\n",
    "discuss.columns = discuss.columns.str.strip()\n",
    "\n",
    "# Perform a left join on EmployeeID\n",
    "merged_data = pd.merge(merged_data, discuss[['EmployeeID', 'TotalTimeSpent']],on='EmployeeID', how='left')\n",
    "\n",
    "# Fill NaN values in DiscussionCount with 0\n",
    "merged_data['TotalTimeSpent'] = merged_data['TotalTimeSpent'].fillna(0)\n",
    "\n",
    "print(\"Merged Data with Discussion Count:\")\n",
    "print(merged_data)\n",
    "# Save the merged data to a CSV file\n",
    "output_path = r'/home/ritish/projects/DATA_ENGINEERING/data-final-project/data_enginnering\\Merged_Data.csv'  # Specify your desired output path\n",
    "merged_data.to_csv(output_path, index=False)\n",
    "\n",
    "# print(f\"Merged data saved to {output_path}\")\n"
   ]
  },
  {
   "cell_type": "code",
   "execution_count": null,
   "metadata": {},
   "outputs": [],
   "source": []
  }
 ],
 "metadata": {
  "kernelspec": {
   "display_name": "myenv",
   "language": "python",
   "name": "python3"
  },
  "language_info": {
   "codemirror_mode": {
    "name": "ipython",
    "version": 3
   },
   "file_extension": ".py",
   "mimetype": "text/x-python",
   "name": "python",
   "nbconvert_exporter": "python",
   "pygments_lexer": "ipython3",
   "version": "3.12.4"
  }
 },
 "nbformat": 4,
 "nbformat_minor": 2
}
